{
 "cells": [
  {
   "cell_type": "code",
   "execution_count": 1,
   "id": "c09592f8-3f00-4168-a54f-205ce02314fc",
   "metadata": {},
   "outputs": [],
   "source": [
    "import yfinance as yf\n",
    "import json\n",
    "import os"
   ]
  },
  {
   "cell_type": "code",
   "execution_count": 3,
   "id": "2517e5bf-323c-478c-8960-e47ce3b783f6",
   "metadata": {},
   "outputs": [],
   "source": [
    "PORTFOLIO_FILE = \"portfolio.json\""
   ]
  },
  {
   "cell_type": "code",
   "execution_count": 5,
   "id": "4a3b53d0-bfd2-4ac1-8796-0650db37287d",
   "metadata": {},
   "outputs": [],
   "source": [
    "def load_portfolio():\n",
    "    if os.path.exists(PORTFOLIO_FILE):\n",
    "        with open(PORTFOLIO_FILE, \"r\") as file:\n",
    "            return json.load(file)\n",
    "    return {}"
   ]
  },
  {
   "cell_type": "code",
   "execution_count": 7,
   "id": "4edfd32e-2127-4dc4-bfab-9942e886356e",
   "metadata": {},
   "outputs": [],
   "source": [
    "def save_portfolio(portfolio):\n",
    "    with open(PORTFOLIO_FILE, \"w\") as file:\n",
    "        json.dump(portfolio, file)\n",
    "    print(\"Portfolio saved successfully!\")"
   ]
  },
  {
   "cell_type": "code",
   "execution_count": 9,
   "id": "10947a0b-6bbf-423c-9720-49cf0b3d436f",
   "metadata": {},
   "outputs": [],
   "source": [
    "def add_stock(portfolio):\n",
    "    ticker = input(\"Enter the stock ticker symbol (e.g., AAPL for Apple): \").upper()\n",
    "    try:\n",
    "        shares = float(input(\"Enter the number of shares: \"))\n",
    "        buy_price = float(input(\"Enter the purchase price per share: \"))\n",
    "        if ticker in portfolio:\n",
    "            portfolio[ticker][\"shares\"] += shares\n",
    "            portfolio[ticker][\"buy_price\"] = buy_price  # Update to the latest buy price\n",
    "        else:\n",
    "            portfolio[ticker] = {\"shares\": shares, \"buy_price\": buy_price}\n",
    "        print(f\"Added {shares} shares of {ticker} at ${buy_price:.2f} to the portfolio.\")\n",
    "        save_portfolio(portfolio)\n",
    "    except ValueError:\n",
    "        print(\"Invalid input. Please enter valid numbers.\")"
   ]
  },
  {
   "cell_type": "code",
   "execution_count": 11,
   "id": "b3c9b39d-7a1e-43d9-a3c8-b047bb08433d",
   "metadata": {},
   "outputs": [],
   "source": [
    "def fetch_prices(portfolio):\n",
    "    print(\"\\n--- Current Portfolio ---\")\n",
    "    total_value = 0\n",
    "    total_invested = 0\n",
    "    if not portfolio:\n",
    "        print(\"Your portfolio is empty.\")\n",
    "        return\n",
    "    for ticker, data in portfolio.items():\n",
    "        try:\n",
    "            stock = yf.Ticker(ticker)\n",
    "            current_price = stock.info[\"currentPrice\"]\n",
    "            value = current_price * data[\"shares\"]\n",
    "            invested = data[\"buy_price\"] * data[\"shares\"]\n",
    "            total_value += value\n",
    "            total_invested += invested\n",
    "            print(f\"{ticker}: {data['shares']} shares @ ${current_price:.2f} = ${value:.2f} (Invested: ${invested:.2f})\")\n",
    "        except Exception as e:\n",
    "            print(f\"Error fetching data for {ticker}: {e}\")\n",
    "    print(f\"\\nTotal Portfolio Value: ${total_value:.2f}\")\n",
    "    print(f\"Total Invested: ${total_invested:.2f}\")\n",
    "    print(f\"Profit/Loss: ${total_value - total_invested:.2f}\")"
   ]
  },
  {
   "cell_type": "code",
   "execution_count": null,
   "id": "ac60fbee-b449-4ffa-91de-2a07af1bfb01",
   "metadata": {},
   "outputs": [],
   "source": [
    "def portfolio_tracker():\n",
    "    portfolio = load_portfolio()\n",
    "    while True:\n",
    "        print(\"\\n--- Portfolio Tracker ---\")\n",
    "        print(\"1. Add Stock\")\n",
    "        print(\"2. View Portfolio and Fetch Prices\")\n",
    "        print(\"3. Exit\")\n",
    "\n",
    "        choice = input(\"Enter your choice: \")\n",
    "        if choice == \"1\":\n",
    "            add_stock(portfolio)\n",
    "        elif choice == \"2\":\n",
    "            fetch_prices(portfolio)\n",
    "        elif choice == \"3\":\n",
    "            print(\"Exiting Portfolio Tracker. Goodbye!\")\n",
    "            break\n",
    "        else:\n",
    "            print(\"Invalid choice. Please select a valid option.\")\n",
    "\n",
    "if __name__ == \"__main__\":\n",
    "    portfolio_tracker()"
   ]
  }
 ],
 "metadata": {
  "kernelspec": {
   "display_name": "Python 3 (ipykernel)",
   "language": "python",
   "name": "python3"
  },
  "language_info": {
   "codemirror_mode": {
    "name": "ipython",
    "version": 3
   },
   "file_extension": ".py",
   "mimetype": "text/x-python",
   "name": "python",
   "nbconvert_exporter": "python",
   "pygments_lexer": "ipython3",
   "version": "3.12.3"
  }
 },
 "nbformat": 4,
 "nbformat_minor": 5
}
